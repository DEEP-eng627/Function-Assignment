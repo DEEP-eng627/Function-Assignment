{
  "nbformat": 4,
  "nbformat_minor": 0,
  "metadata": {
    "colab": {
      "provenance": [],
      "collapsed_sections": [
        "n_Fc19iqd4N4",
        "VSFrSa9lgSgP",
        "g5qNQQjuvjTC"
      ]
    },
    "kernelspec": {
      "name": "python3",
      "display_name": "Python 3"
    },
    "language_info": {
      "name": "python"
    }
  },
  "cells": [
    {
      "cell_type": "markdown",
      "source": [
        "#1. What is the difference between a function and a method in Python?\n",
        "\n",
        " In Python, both functions and methods are used to perform specific tasks, but they differ in their scope, purpose, and usage:\n",
        "\n",
        "**Function:**\n",
        "\n",
        "1. A function is a standalone block of code that can be called multiple times from different parts of your program.\n",
        "2. Functions are defined using the def keyword and can take arguments and return values.\n",
        "3. Functions are not tied to any specific object or class.\n",
        "\n",
        "\n"
      ],
      "metadata": {
        "id": "n_Fc19iqd4N4"
      }
    },
    {
      "cell_type": "code",
      "source": [
        "#Example:\n",
        "\n",
        "def greet(name):\n",
        "  print(f\"Hello, {name}!\")\n",
        "\n",
        "greet(\"deep\")"
      ],
      "metadata": {
        "colab": {
          "base_uri": "https://localhost:8080/"
        },
        "id": "aHdEYunQeUSj",
        "outputId": "fd53d6ab-7b91-4053-a974-e578fd5e8fff"
      },
      "execution_count": 1,
      "outputs": [
        {
          "output_type": "stream",
          "name": "stdout",
          "text": [
            "Hello, deep!\n"
          ]
        }
      ]
    },
    {
      "cell_type": "markdown",
      "source": [
        "**Method:**\n",
        "\n",
        "1. A method is a function that is part of a class and is used to perform actions on an object of that class.\n",
        "2. Methods are also defined using the def keyword, but they are defined inside a class.\n",
        "3. Methods have access to the object's attributes and can modify its state.\n",
        "\n"
      ],
      "metadata": {
        "id": "vkr_HQcRfUP2"
      }
    },
    {
      "cell_type": "code",
      "source": [
        "#Example:\n",
        "\n",
        "\n",
        "class Person:\n",
        "    def __init__(self, name):\n",
        "        self.name = name\n",
        "\n",
        "    def greet(self):\n",
        "        print(f\"Hello, my name is {self.name}!\")\n",
        "\n",
        "person = Person(\"deep\")\n",
        "person.greet()\n",
        "\n",
        "\n"
      ],
      "metadata": {
        "colab": {
          "base_uri": "https://localhost:8080/"
        },
        "id": "oBNXq8a-ewOy",
        "outputId": "ba3d8c0c-bdba-446d-c5ad-ed23b54300f2"
      },
      "execution_count": 3,
      "outputs": [
        {
          "output_type": "stream",
          "name": "stdout",
          "text": [
            "Hello, my name is deep!\n"
          ]
        }
      ]
    },
    {
      "cell_type": "markdown",
      "source": [
        "**Key differences:**\n",
        "\n",
        "- Scope: Functions are standalone, while methods are part of a class and operate on an object.\n",
        "- Purpose: Functions perform general tasks, while methods perform actions specific to an object or class.\n",
        "- Usage: Functions are called directly, while methods are called on an object using dot notation (e.g., object.method()).\n",
        "\n",
        "In summary, functions are reusable blocks of code that can be used anywhere, while methods are functions that are tied to a specific class or object and are used to perform actions on that object."
      ],
      "metadata": {
        "id": "Q9deGbUugJmp"
      }
    },
    {
      "cell_type": "markdown",
      "source": [
        "#2. Explain the concept of function arguments and parameters in Python?\n",
        "\n",
        "In Python, function arguments and parameters are two related but distinct concepts:\n",
        "\n",
        "**Parameters:**\n",
        "\n",
        "1. Parameters are the variables defined in a function's definition.\n",
        "2. They are the placeholders for the values that will be passed to the function when it's called.\n",
        "3. Parameters are defined inside the parentheses of a function definition."
      ],
      "metadata": {
        "id": "VSFrSa9lgSgP"
      }
    },
    {
      "cell_type": "code",
      "source": [
        "#Example:\n",
        "\n",
        "\n",
        "def greet(name):\n",
        "    print(f\"Hello, {name}!\")"
      ],
      "metadata": {
        "id": "JaetAjUngAL9"
      },
      "execution_count": 7,
      "outputs": []
    },
    {
      "cell_type": "markdown",
      "source": [
        "**Arguments:**\n",
        "\n",
        "1. Arguments are the values passed to a function when it's called.\n",
        "2. They are the actual values that are assigned to the function's parameters.\n",
        "3. Arguments can be positional (passed in order) or keyword-based (passed with their parameter name).\n",
        "\n"
      ],
      "metadata": {
        "id": "eTXMU9TIh4SJ"
      }
    },
    {
      "cell_type": "code",
      "source": [
        "#Example:\n",
        "\n",
        "\n",
        "greet(\"John\")  # \"John\" is an argument\n",
        "\n",
        "\n"
      ],
      "metadata": {
        "colab": {
          "base_uri": "https://localhost:8080/"
        },
        "id": "zPypkQrFhSg5",
        "outputId": "ccdbed62-8ce7-4453-803e-e3089e9f1abe"
      },
      "execution_count": 8,
      "outputs": [
        {
          "output_type": "stream",
          "name": "stdout",
          "text": [
            "Hello, John!\n"
          ]
        }
      ]
    },
    {
      "cell_type": "markdown",
      "source": [
        "In this example, \"John\" is an argument that is passed to the greet function and assigned to the name parameter.\n"
      ],
      "metadata": {
        "id": "JPC_kkBTid8R"
      }
    },
    {
      "cell_type": "markdown",
      "source": [
        "#3. What are the different ways to define and call a function in Python?\n",
        "\n",
        " In Python, there are several ways to define and call a function:\n",
        "\n",
        "Defining Functions:\n",
        "\n",
        "1. **Simple Function:** A basic function with a name, parameters, and a body.\n",
        "\n",
        "\n"
      ],
      "metadata": {
        "id": "CvrEDjpMijRl"
      }
    },
    {
      "cell_type": "code",
      "source": [
        "\n",
        "def greet(name):\n",
        "  print(f\"Hello, {name}!\")\n",
        "\n",
        "greet(\"John\")\n",
        "\n",
        "\n"
      ],
      "metadata": {
        "colab": {
          "base_uri": "https://localhost:8080/"
        },
        "id": "1M1UWeZAiUW2",
        "outputId": "7ff2ed89-22fb-406c-e88b-9141e1f5dab1"
      },
      "execution_count": 9,
      "outputs": [
        {
          "output_type": "stream",
          "name": "stdout",
          "text": [
            "Hello, John!\n"
          ]
        }
      ]
    },
    {
      "cell_type": "markdown",
      "source": [
        " 2.  **Lambda Function:** An anonymous function that can be defined inline.\n",
        "\n",
        "    \n",
        "   "
      ],
      "metadata": {
        "id": "ZDCXg7u4kb1H"
      }
    },
    {
      "cell_type": "code",
      "source": [
        " pythongreet = lambda name: print(f\"Hello, {name}!\")\n",
        "greet(\"John\")"
      ],
      "metadata": {
        "colab": {
          "base_uri": "https://localhost:8080/"
        },
        "id": "c0wccv2BiYpa",
        "outputId": "a3bd5595-d112-4153-abcb-0b552f263847"
      },
      "execution_count": 10,
      "outputs": [
        {
          "output_type": "stream",
          "name": "stdout",
          "text": [
            "Hello, John!\n"
          ]
        }
      ]
    },
    {
      "cell_type": "markdown",
      "source": [
        "3.**Function with Default Arguments:** A function with parameters that have default values.\n",
        "\n",
        "\n"
      ],
      "metadata": {
        "id": "3jwuszIJmtjb"
      }
    },
    {
      "cell_type": "code",
      "source": [
        "def greet(name, age=30):\n",
        "  print(f\"Hello, {name}! You are {age} years old.\")\n",
        "\n",
        "greet(\"John\")\n",
        "\n",
        "\n"
      ],
      "metadata": {
        "colab": {
          "base_uri": "https://localhost:8080/"
        },
        "id": "9lnbDruSlVVo",
        "outputId": "a7577a9f-3861-4363-a4f8-4ec93d90a4e6"
      },
      "execution_count": 11,
      "outputs": [
        {
          "output_type": "stream",
          "name": "stdout",
          "text": [
            "Hello, John! You are 30 years old.\n"
          ]
        }
      ]
    },
    {
      "cell_type": "markdown",
      "source": [
        "4.  **Function with Variable-Length Arguments:** A function that can accept a variable number of arguments.\n"
      ],
      "metadata": {
        "id": "yIBTc7bpnUqh"
      }
    },
    {
      "cell_type": "code",
      "source": [
        "\n",
        "def greet(*names):\n",
        "    for name in names:\n",
        "        print(f\"Hello, {name}!\")\n",
        "\n",
        "greet(\"John\", \"Alice\", \"Bob\")\n",
        "\n"
      ],
      "metadata": {
        "colab": {
          "base_uri": "https://localhost:8080/"
        },
        "id": "ao5pL4JjnTJL",
        "outputId": "4c195761-0a18-4a3c-bd62-7329db617d97"
      },
      "execution_count": 15,
      "outputs": [
        {
          "output_type": "stream",
          "name": "stdout",
          "text": [
            "Hello, John!\n",
            "Hello, Alice!\n",
            "Hello, Bob!\n"
          ]
        }
      ]
    },
    {
      "cell_type": "markdown",
      "source": [
        "**Calling Functions:**\n",
        "\n",
        "\n",
        "\n",
        "\n",
        "\n",
        "\n",
        "\n",
        "\n",
        "\n",
        "\n",
        "\n",
        "\n",
        "\n",
        "\n",
        "These are some of the ways to define and call functions in Python. Understanding these concepts can help you write more flexible and effective functions.\n"
      ],
      "metadata": {
        "id": "qil93n16oObc"
      }
    },
    {
      "cell_type": "markdown",
      "source": [
        "1.  **Positional Arguments:** Passing arguments in the order they are defined.\n"
      ],
      "metadata": {
        "id": "ji_kz3Zbs_Kq"
      }
    },
    {
      "cell_type": "code",
      "source": [
        "def greet(name, age):\n",
        "    print(f\"Hello, {name}! You are {age} years old.\")\n",
        "\n",
        "greet(\"John\", 30)\n",
        "\n"
      ],
      "metadata": {
        "colab": {
          "base_uri": "https://localhost:8080/"
        },
        "id": "moVCxP54nevp",
        "outputId": "25e41644-1c86-43f6-fd98-13393e716ac2"
      },
      "execution_count": 16,
      "outputs": [
        {
          "output_type": "stream",
          "name": "stdout",
          "text": [
            "Hello, John! You are 30 years old.\n"
          ]
        }
      ]
    },
    {
      "cell_type": "markdown",
      "source": [
        "2. **Keyword Arguments:** Passing arguments with their parameter name.\n"
      ],
      "metadata": {
        "id": "jQoR6_p-pyqg"
      }
    },
    {
      "cell_type": "code",
      "source": [
        "greet(name=\"John\", age=30)"
      ],
      "metadata": {
        "colab": {
          "base_uri": "https://localhost:8080/"
        },
        "id": "rmh3-ha8pxLE",
        "outputId": "2e9b446b-dac7-4c5a-d3f4-646f78836095"
      },
      "execution_count": 17,
      "outputs": [
        {
          "output_type": "stream",
          "name": "stdout",
          "text": [
            "Hello, John! You are 30 years old.\n"
          ]
        }
      ]
    },
    {
      "cell_type": "markdown",
      "source": [
        "3.  **Mixing Positional and Keyword Arguments:** Passing some arguments positionally and others as keyword arguments.\n"
      ],
      "metadata": {
        "id": "k0_8J7cvqRFI"
      }
    },
    {
      "cell_type": "code",
      "source": [
        "greet(\"John\", age=30)\n"
      ],
      "metadata": {
        "colab": {
          "base_uri": "https://localhost:8080/"
        },
        "id": "Ft5sB36TqR2R",
        "outputId": "27743ff6-b725-453a-82a3-21cd22b3595c"
      },
      "execution_count": 18,
      "outputs": [
        {
          "output_type": "stream",
          "name": "stdout",
          "text": [
            "Hello, John! You are 30 years old.\n"
          ]
        }
      ]
    },
    {
      "cell_type": "markdown",
      "source": [
        "4. **Unpacking Arguments:** Passing a list or dictionary of arguments to a function.\n"
      ],
      "metadata": {
        "id": "92VcOVFwsw31"
      }
    },
    {
      "cell_type": "code",
      "source": [
        " args = [\"John\", 30]\n",
        "greet(*args)\n",
        "\n",
        "kwargs = {\"name\": \"John\", \"age\": 30}\n",
        "greet(**kwargs)\n"
      ],
      "metadata": {
        "colab": {
          "base_uri": "https://localhost:8080/"
        },
        "id": "GfqzbCK3qC6d",
        "outputId": "dd9963c7-5f39-4346-bd3d-cd4e7a21b0e1"
      },
      "execution_count": 19,
      "outputs": [
        {
          "output_type": "stream",
          "name": "stdout",
          "text": [
            "Hello, John! You are 30 years old.\n",
            "Hello, John! You are 30 years old.\n"
          ]
        }
      ]
    },
    {
      "cell_type": "code",
      "source": [],
      "metadata": {
        "id": "rqDCYrYBs1bw"
      },
      "execution_count": null,
      "outputs": []
    },
    {
      "cell_type": "markdown",
      "source": [
        "#4. What is the purpose of the return statement in a Python function?\n",
        "\n",
        " The return statement in a Python function serves several purposes:\n",
        "\n",
        "**1. Returning Values:** The primary purpose of the return statement is to return values from a function to the caller. This allows the function to produce output that can be used by the rest of the program.\n",
        "\n",
        "\n",
        "\n",
        "\n"
      ],
      "metadata": {
        "id": "gtIEZ6b3tvd1"
      }
    },
    {
      "cell_type": "code",
      "source": [
        "def add(a, b):\n",
        "  return a + b\n",
        "\n",
        "result = add(2, 3)\n",
        "print(result)\n",
        "\n"
      ],
      "metadata": {
        "colab": {
          "base_uri": "https://localhost:8080/"
        },
        "id": "qZkyUnxBucY2",
        "outputId": "48369911-acdf-41f5-d6b8-4229ea44f195"
      },
      "execution_count": 20,
      "outputs": [
        {
          "output_type": "stream",
          "name": "stdout",
          "text": [
            "5\n"
          ]
        }
      ]
    },
    {
      "cell_type": "markdown",
      "source": [
        "2.  **Exiting the Function:** When a return statement is encountered, the function execution is terminated, and control is passed back to the caller. Any code after the return statement is not executed.\n",
        "\n",
        "    \n"
      ],
      "metadata": {
        "id": "B-OMqNKJuovp"
      }
    },
    {
      "cell_type": "code",
      "source": [
        "def greet(name):\n",
        "    print(f\"Hello, {name}!\")\n",
        "    return\n",
        "    print(\"This line is not executed.\")\n",
        "\n",
        "greet(\"John\")"
      ],
      "metadata": {
        "colab": {
          "base_uri": "https://localhost:8080/"
        },
        "id": "PUnctTPeuhf_",
        "outputId": "10e730ff-dd8f-49d3-a2ff-f0f394697358"
      },
      "execution_count": 21,
      "outputs": [
        {
          "output_type": "stream",
          "name": "stdout",
          "text": [
            "Hello, John!\n"
          ]
        }
      ]
    },
    {
      "cell_type": "markdown",
      "source": [
        "#5. What are iterators in Python and how do they differ from iterables?\n",
        " In Python, iterators and iterables are two related but distinct concepts:\n",
        "\n",
        "**Iterables:**\n",
        "\n",
        "1. An iterable is an object that can be iterated over, meaning its elements can be accessed one by one.\n",
        "2. Examples of iterables include lists, tuples, dictionaries, sets, and strings.\n",
        "3. Iterables can be used in loops, list comprehensions, and other contexts where iteration is needed.\n",
        "\n"
      ],
      "metadata": {
        "id": "g5qNQQjuvjTC"
      }
    },
    {
      "cell_type": "code",
      "source": [
        "\n",
        "my_list = [1, 2, 3]\n",
        "for element in my_list:\n",
        "  print(element)\n",
        "\n",
        "\n"
      ],
      "metadata": {
        "colab": {
          "base_uri": "https://localhost:8080/"
        },
        "id": "2jaiMTSPuvB3",
        "outputId": "56d5ae72-b889-44ff-b8c2-1a045c56df70"
      },
      "execution_count": 23,
      "outputs": [
        {
          "output_type": "stream",
          "name": "stdout",
          "text": [
            "1\n",
            "2\n",
            "3\n"
          ]
        }
      ]
    },
    {
      "cell_type": "markdown",
      "source": [
        "**Iterators:**\n",
        "\n",
        "1.  An iterator is an object that keeps track of its position in an iterable and returns the next element each time it's called.\n",
        "2.  Iterators are created using the iter() function or by calling the __iter__() method on an iterable.\n",
        "3.  Iterators have a __next__() method that returns the next element in the iterable. If there are no more elements, it raises a StopIteration exception.\n",
        "\n",
        "    "
      ],
      "metadata": {
        "id": "138j-8wXv0KJ"
      }
    },
    {
      "cell_type": "code",
      "source": [
        "\n",
        "my_list = [1, 2, 3]\n",
        "my_iterator = iter(my_list)\n",
        "print(next(my_iterator))\n",
        "print(next(my_iterator))\n",
        "print(next(my_iterator))\n",
        "\n",
        "\n"
      ],
      "metadata": {
        "colab": {
          "base_uri": "https://localhost:8080/"
        },
        "id": "lYcyuQqKvrhJ",
        "outputId": "9f221dfe-07af-4347-a054-e17b67bdb76f"
      },
      "execution_count": 24,
      "outputs": [
        {
          "output_type": "stream",
          "name": "stdout",
          "text": [
            "1\n",
            "2\n",
            "3\n"
          ]
        }
      ]
    },
    {
      "cell_type": "markdown",
      "source": [
        "#6. Explain the concept of generators in Python and how they are defined.\n",
        "\n",
        " In Python, generators are a type of iterable that can be used to generate a sequence of values on-the-fly, rather than storing them all in memory at once. Generators are useful for creating large datasets or for situations where the entire dataset doesn't need to be stored in memory.\n",
        "\n",
        "**Defining Generators:**\n",
        "\n",
        "Generators are defined using functions with the yield keyword. When a generator function is called, it returns a generator object that can be used to iterate over the values produced by the function."
      ],
      "metadata": {
        "id": "DsH9nThaw4Gm"
      }
    },
    {
      "cell_type": "code",
      "source": [
        "def infinite_sequence():\n",
        "    num = 0\n",
        "    while True:\n",
        "        yield num\n",
        "        num += 1\n",
        "\n",
        "gen = infinite_sequence()\n",
        "print(next(gen))\n",
        "print(next(gen))\n",
        "print(next(gen))\n",
        "\n"
      ],
      "metadata": {
        "colab": {
          "base_uri": "https://localhost:8080/"
        },
        "id": "4o7eIN0iw1gR",
        "outputId": "fe7bc7d6-f195-4cba-ba62-963525291042"
      },
      "execution_count": 25,
      "outputs": [
        {
          "output_type": "stream",
          "name": "stdout",
          "text": [
            "0\n",
            "1\n",
            "2\n"
          ]
        }
      ]
    },
    {
      "cell_type": "markdown",
      "source": [
        "**How Generators Work:**\n",
        "\n",
        "1. When a generator function is called, it doesn't execute immediately. Instead, it returns a generator object.\n",
        "2. When next() is called on the generator object, the function executes until it reaches a yield statement.\n",
        "3. The value yielded is returned to the caller, and the function's state is saved.\n",
        "4. When next() is called again, the function resumes execution from where it left off."
      ],
      "metadata": {
        "id": "WmUrfqb80PK4"
      }
    },
    {
      "cell_type": "markdown",
      "source": [
        "#7.  What are the advantages of using generators over regular functions?\n",
        "\n",
        " Generators have several advantages over regular functions:\n",
        "\n",
        "**Advantages:**\n",
        "\n",
        "1. **Memory Efficiency:** Generators use less memory because they don't store the entire dataset in memory at once. Instead, they produce values on-the-fly as they're needed.\n",
        "\n",
        "2. **Lazy Evaluation:** Generators only produce values when they're needed, which can be more efficient than creating an entire dataset upfront.\n",
        "\n",
        "3. **Improved Performance:** Generators can be faster than regular functions because they avoid the overhead of creating and storing large datasets.\n",
        "\n",
        "4. **Flexibility:** Generators can be used to create complex sequences or to handle large datasets that wouldn't fit in memory.\n",
        "5. Infinite Sequences: Generators can be used to create infinite sequences, which can be useful in certain mathematical or computational contexts.\n",
        "\n",
        "6. **Pipelining:** Generators can be used to create pipelines of operations, where each generator produces values that are consumed by the next generator in the pipeline.\n",
        "\n",
        "\n",
        "**Use Cases:**\n",
        "\n",
        "\n",
        "1. **Handling Large Datasets:** Generators are useful when working with large datasets that don't fit in memory.\n",
        "\n",
        "2. **Creating Complex Sequences:** Generators can be used to create complex sequences, such as Fibonacci numbers or prime numbers.\n",
        "\n",
        "3. **Real-time Data Processing:** Generators can be used to process real-time data, such as streaming data from a sensor or a network connection.\n",
        "\n",
        "4. **Database Query Results:** Generators can be used to iterate over database query results, reducing memory usage and improving performance."
      ],
      "metadata": {
        "id": "p-kkhhaj0WZ9"
      }
    },
    {
      "cell_type": "markdown",
      "source": [
        "#8. What is a lambda function in Python and when is it typically used?\n",
        "\n",
        " In Python, a lambda function is a small, anonymous function that can be defined inline within a larger expression. It's a shorthand way to create simple functions without declaring a full-fledged function with a def statement.\n",
        "\n",
        "Syntax:\n",
        "\n",
        "\n",
        "lambda arguments: expression\n",
        "\n",
        "\n",
        "**Example:**"
      ],
      "metadata": {
        "id": "1QyeH7QU1j0z"
      }
    },
    {
      "cell_type": "code",
      "source": [
        "double = lambda x: x * 2\n",
        "print(double(5))\n"
      ],
      "metadata": {
        "colab": {
          "base_uri": "https://localhost:8080/"
        },
        "id": "XXQjUbja0Cno",
        "outputId": "af13c7f3-cedc-4c09-b0ab-9649ebf77a2a"
      },
      "execution_count": 26,
      "outputs": [
        {
          "output_type": "stream",
          "name": "stdout",
          "text": [
            "10\n"
          ]
        }
      ]
    },
    {
      "cell_type": "markdown",
      "source": [
        "**When to Use Lambda Functions:**\n",
        "\n",
        "1. One-time use: Lambda functions are useful when you need a small, one-time-use function that won't be reused elsewhere in your code.\n",
        "2. Higher-order functions: Lambda functions are often used as arguments to higher-order functions, such as map(), filter(), and reduce().\n",
        "3. Data processing: Lambda functions can be used to perform simple data transformations or filtering operations.\n",
        "4. Event handling: Lambda functions can be used as event handlers in GUI programming or other contexts where a small, anonymous function is needed.\n",
        "\n",
        "**Benefits:**\n",
        "\n",
        "1. Concise code: Lambda functions can make your code more concise and readable by avoiding the need for a separate def statement.\n",
        "2. Flexibility: Lambda functions can be defined inline, making them useful for situations where a small function is needed on the fly.\n",
        "\n",
        "**Common Use Cases:**\n",
        "\n",
        "1. Sorting: Lambda functions can be used as the key argument to the sort() method or sorted() function.\n",
        "2. Mapping: Lambda functions can be used with the map() function to apply a transformation to each element of an iterable.\n",
        "3. Filtering: Lambda functions can be used with the filter() function to select elements from an iterable based on a condition."
      ],
      "metadata": {
        "id": "Jvuo21Tu4MWD"
      }
    },
    {
      "cell_type": "code",
      "source": [
        "#Example:\n",
        "\n",
        "\n",
        "numbers = [1, 2, 3, 4, 5]\n",
        "squared_numbers = list(map(lambda x: x ** 2, numbers))\n",
        "print(squared_numbers)\n",
        "\n",
        "\n"
      ],
      "metadata": {
        "colab": {
          "base_uri": "https://localhost:8080/"
        },
        "id": "R1kebSoD4BXJ",
        "outputId": "710f9ca3-6a02-4efa-91b4-256c71fd94a1"
      },
      "execution_count": 28,
      "outputs": [
        {
          "output_type": "stream",
          "name": "stdout",
          "text": [
            "[1, 4, 9, 16, 25]\n"
          ]
        }
      ]
    },
    {
      "cell_type": "markdown",
      "source": [
        "#9. Explain the purpose and usage of the map() function in Python.\n",
        "\n",
        "The map() function in Python is a built-in function that applies a given function to each item of an iterable (such as a list, tuple, or string) and returns a map object, which is an iterator.\n",
        "\n",
        "**Purpose:**\n",
        "\n",
        "The purpose of the map() function is to:\n",
        "\n",
        "1. Apply a transformation: map() applies a given function to each item of an iterable, transforming the items in some way.\n",
        "2. Create a new iterable: map() returns a new iterable that produces the transformed items.\n",
        "\n",
        "**Usage:**\n",
        "\n",
        "The basic syntax of the map() function is:\n",
        "\n",
        "\n",
        "map(function, iterable)\n",
        "\n",
        "\n",
        "**Where:**\n",
        "\n",
        "- function is the function to be applied to each item of the iterable.\n",
        "- iterable is the iterable (such as a list, tuple, or string) that you want to transform.\n",
        "\n",
        "**Example:**\n",
        "\n",
        "\n",
        "\n",
        "\n",
        "In this example, the map() function applies the square function to each item of the numbers list, producing a new iterable that produces the squared numbers."
      ],
      "metadata": {
        "id": "ATSkh1qh426P"
      }
    },
    {
      "cell_type": "code",
      "source": [
        "def square(x):\n",
        "    return x ** 2\n",
        "\n",
        "numbers = [5,8,12,7,6]\n",
        "squared_numbers = map(square, numbers)\n",
        "print(list(squared_numbers))\n"
      ],
      "metadata": {
        "colab": {
          "base_uri": "https://localhost:8080/"
        },
        "id": "iy9zzQnH4c2J",
        "outputId": "71e99904-5d66-41be-f8fa-62a1ef900e9e"
      },
      "execution_count": 30,
      "outputs": [
        {
          "output_type": "stream",
          "name": "stdout",
          "text": [
            "[25, 64, 144, 49, 36]\n"
          ]
        }
      ]
    },
    {
      "cell_type": "markdown",
      "source": [
        "#10.  What is the difference between map(), reduce(), and filter() functions in Python?\n",
        "\n",
        " map(), reduce(), and filter() are three built-in functions in Python that are used to process iterables. Here's a brief overview of each function and their differences:\n",
        "\n",
        "**map():**\n",
        "\n",
        "- Applies a given function to each item of an iterable and returns a map object.\n",
        "- Used for transforming data.\n",
        "\n",
        "**Example:**"
      ],
      "metadata": {
        "id": "aS2uiEtu6Sw1"
      }
    },
    {
      "cell_type": "code",
      "source": [
        "numbers = [1, 2, 3, 4, 5]\n",
        "squared_numbers = list(map(lambda x: x ** 2, numbers))\n",
        "print(squared_numbers)\n"
      ],
      "metadata": {
        "colab": {
          "base_uri": "https://localhost:8080/"
        },
        "id": "QfLchJxl5te5",
        "outputId": "ef0769b7-b8c3-4118-a2f5-9c4ea3dda4d8"
      },
      "execution_count": 31,
      "outputs": [
        {
          "output_type": "stream",
          "name": "stdout",
          "text": [
            "[1, 4, 9, 16, 25]\n"
          ]
        }
      ]
    },
    {
      "cell_type": "markdown",
      "source": [
        "**filter():**\n",
        "\n",
        "- Applies a given predicate function to each item of an iterable and returns a filter object that produces only the items for which the predicate is true.\n",
        "- Used for filtering data.\n",
        "\n",
        "**Example:**\n",
        "\n",
        "\n"
      ],
      "metadata": {
        "id": "8V8W1j7T66-3"
      }
    },
    {
      "cell_type": "code",
      "source": [
        "numbers = [1, 2, 3, 4, 5]\n",
        "even_numbers = list(filter(lambda x: x % 2 == 0, numbers))\n",
        "print(even_numbers)\n",
        "\n"
      ],
      "metadata": {
        "colab": {
          "base_uri": "https://localhost:8080/"
        },
        "id": "ETimhAWh6ukc",
        "outputId": "9a2ebbd4-3d46-4145-b89b-ebca8a31d3ed"
      },
      "execution_count": 32,
      "outputs": [
        {
          "output_type": "stream",
          "name": "stdout",
          "text": [
            "[2, 4]\n"
          ]
        }
      ]
    },
    {
      "cell_type": "markdown",
      "source": [
        "**reduce():**\n",
        "\n",
        "- Applies a given function to the items of an iterable, reducing them to a single output value.\n",
        "- Used for aggregating data.\n",
        "- Note that reduce() is part of the functools module in Python 3.\n",
        "\n",
        "**Example:**\n",
        "\n",
        "\n"
      ],
      "metadata": {
        "id": "rpqQGlVV7Jk6"
      }
    },
    {
      "cell_type": "code",
      "source": [
        "import functools\n",
        "numbers = [1, 2, 3, 4, 5]\n",
        "sum_of_numbers = functools.reduce(lambda x, y: x + y, numbers)\n",
        "print(sum_of_numbers)\n"
      ],
      "metadata": {
        "colab": {
          "base_uri": "https://localhost:8080/"
        },
        "id": "kZ9LsouW6--X",
        "outputId": "401a2297-8140-4fd9-8638-db3edaa3dcbb"
      },
      "execution_count": 33,
      "outputs": [
        {
          "output_type": "stream",
          "name": "stdout",
          "text": [
            "15\n"
          ]
        }
      ]
    },
    {
      "cell_type": "markdown",
      "source": [
        "#11. using pen & paper write the internal mechanism for sum operation using  reduce function on this given list:[47,11,42,13];"
      ],
      "metadata": {
        "id": "OdpmhA757TN1"
      }
    },
    {
      "cell_type": "markdown",
      "source": [
        "![WhatsApp Image 2025-04-29 at 10.08.50 PM.jpeg](data:image/jpeg;base64,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)"
      ],
      "metadata": {
        "id": "tC3V-YXsZVw1"
      }
    },
    {
      "cell_type": "markdown",
      "source": [
        "#                                                Practical questions:"
      ],
      "metadata": {
        "id": "t8CkGiEn_Seq"
      }
    },
    {
      "cell_type": "markdown",
      "source": [
        "#1. Write a Python function that takes a list of numbers as input and returns the sum of all even numbers in the list."
      ],
      "metadata": {
        "id": "x61aUFq-CMp1"
      }
    },
    {
      "cell_type": "code",
      "source": [
        "def sum_even_numbers(numbers):\n",
        "    even_sum = 0\n",
        "    for num in numbers:\n",
        "        if num % 2 == 0:\n",
        "            even_sum += num\n",
        "    return even_sum\n",
        "\n"
      ],
      "metadata": {
        "id": "4NijfsPJ8z2i"
      },
      "execution_count": 37,
      "outputs": []
    },
    {
      "cell_type": "code",
      "source": [
        "sum_even_numbers([47,11,42,13])"
      ],
      "metadata": {
        "colab": {
          "base_uri": "https://localhost:8080/"
        },
        "id": "Irn-3Ya8FJo_",
        "outputId": "9d187e3f-5d80-4e58-8dc8-e327a13cebe9"
      },
      "execution_count": 38,
      "outputs": [
        {
          "output_type": "execute_result",
          "data": {
            "text/plain": [
              "42"
            ]
          },
          "metadata": {},
          "execution_count": 38
        }
      ]
    },
    {
      "cell_type": "markdown",
      "source": [
        "#2. Create a Python function that accepts a string and returns the reverse of that string"
      ],
      "metadata": {
        "id": "laf3HN9cFlOk"
      }
    },
    {
      "cell_type": "code",
      "source": [
        "def reverse_string(s):\n",
        "    return s[::-1]\n"
      ],
      "metadata": {
        "id": "2cW2WLCMFiLO"
      },
      "execution_count": 39,
      "outputs": []
    },
    {
      "cell_type": "code",
      "source": [
        "reverse_string(\"hello world\")"
      ],
      "metadata": {
        "colab": {
          "base_uri": "https://localhost:8080/",
          "height": 35
        },
        "id": "5hYa7F_0Gl0Y",
        "outputId": "46e0730b-860a-455a-ca13-824b3400fc31"
      },
      "execution_count": 42,
      "outputs": [
        {
          "output_type": "execute_result",
          "data": {
            "text/plain": [
              "'dlrow olleh'"
            ],
            "application/vnd.google.colaboratory.intrinsic+json": {
              "type": "string"
            }
          },
          "metadata": {},
          "execution_count": 42
        }
      ]
    },
    {
      "cell_type": "markdown",
      "source": [
        "#3.Implement a Python function that takes a list of integers and returns a new list containing the squares of each number."
      ],
      "metadata": {
        "id": "lbA9kQ-CHDwk"
      }
    },
    {
      "cell_type": "code",
      "source": [
        "def squares(numbers):\n",
        "    return [num ** 2 for num in numbers]\n"
      ],
      "metadata": {
        "id": "E8Dq9U0aG1Xf"
      },
      "execution_count": 56,
      "outputs": []
    },
    {
      "cell_type": "code",
      "source": [
        "squares([47,11,42,13])"
      ],
      "metadata": {
        "colab": {
          "base_uri": "https://localhost:8080/"
        },
        "id": "pYyvAXyxHcJC",
        "outputId": "12b513bd-d1dd-4719-95cc-3bfc190c9e60"
      },
      "execution_count": 57,
      "outputs": [
        {
          "output_type": "execute_result",
          "data": {
            "text/plain": [
              "[2209, 121, 1764, 169]"
            ]
          },
          "metadata": {},
          "execution_count": 57
        }
      ]
    },
    {
      "cell_type": "markdown",
      "source": [
        "#4. Write a Python function that checks if a given number is prime or not from 1 to 200."
      ],
      "metadata": {
        "id": "KMaXMUgxJXAo"
      }
    },
    {
      "cell_type": "code",
      "source": [
        "for num in range(1, 201):\n",
        "    if is_prime(num):\n",
        "        print(f\"{num} is prime\")\n"
      ],
      "metadata": {
        "colab": {
          "base_uri": "https://localhost:8080/"
        },
        "collapsed": true,
        "id": "3xRmC6X2Jn8B",
        "outputId": "363702a4-699f-4f40-b42d-ec8401f3559e"
      },
      "execution_count": 62,
      "outputs": [
        {
          "output_type": "stream",
          "name": "stdout",
          "text": [
            "2 is prime\n",
            "3 is prime\n",
            "5 is prime\n",
            "7 is prime\n",
            "11 is prime\n",
            "13 is prime\n",
            "17 is prime\n",
            "19 is prime\n",
            "23 is prime\n",
            "29 is prime\n",
            "31 is prime\n",
            "37 is prime\n",
            "41 is prime\n",
            "43 is prime\n",
            "47 is prime\n",
            "53 is prime\n",
            "59 is prime\n",
            "61 is prime\n",
            "67 is prime\n",
            "71 is prime\n",
            "73 is prime\n",
            "79 is prime\n",
            "83 is prime\n",
            "89 is prime\n",
            "97 is prime\n",
            "101 is prime\n",
            "103 is prime\n",
            "107 is prime\n",
            "109 is prime\n",
            "113 is prime\n",
            "127 is prime\n",
            "131 is prime\n",
            "137 is prime\n",
            "139 is prime\n",
            "149 is prime\n",
            "151 is prime\n",
            "157 is prime\n",
            "163 is prime\n",
            "167 is prime\n",
            "173 is prime\n",
            "179 is prime\n",
            "181 is prime\n",
            "191 is prime\n",
            "193 is prime\n",
            "197 is prime\n",
            "199 is prime\n"
          ]
        }
      ]
    },
    {
      "cell_type": "markdown",
      "source": [
        "#5. Create an iterator class in Python that generates the Fibonacci sequence up to a specified number of terms"
      ],
      "metadata": {
        "id": "5KGZOaU8KpF0"
      }
    },
    {
      "cell_type": "code",
      "source": [
        "def fib(n):\n",
        "    a, b = 0, 1\n",
        "    for _ in range(n):\n",
        "        yield a\n",
        "        a, b = b, a + b\n"
      ],
      "metadata": {
        "id": "OrIfbzX2KCBD"
      },
      "execution_count": 63,
      "outputs": []
    },
    {
      "cell_type": "code",
      "source": [
        "fib(10)"
      ],
      "metadata": {
        "colab": {
          "base_uri": "https://localhost:8080/"
        },
        "id": "jjJbcs2vMnq3",
        "outputId": "48ebe5c4-9666-4ce0-f3cd-f449ad81cbc5"
      },
      "execution_count": 64,
      "outputs": [
        {
          "output_type": "execute_result",
          "data": {
            "text/plain": [
              "<generator object fib at 0x7caddebe66b0>"
            ]
          },
          "metadata": {},
          "execution_count": 64
        }
      ]
    },
    {
      "cell_type": "code",
      "source": [
        "f = fib(10)"
      ],
      "metadata": {
        "id": "5TAzMXbOMueT"
      },
      "execution_count": 66,
      "outputs": []
    },
    {
      "cell_type": "code",
      "source": [
        "next(f)"
      ],
      "metadata": {
        "colab": {
          "base_uri": "https://localhost:8080/"
        },
        "id": "YNmhvVXmMzx2",
        "outputId": "cbb4ff2a-479d-4e34-cb5d-6c1f3df32141"
      },
      "execution_count": 67,
      "outputs": [
        {
          "output_type": "execute_result",
          "data": {
            "text/plain": [
              "0"
            ]
          },
          "metadata": {},
          "execution_count": 67
        }
      ]
    },
    {
      "cell_type": "code",
      "source": [
        "next(f)"
      ],
      "metadata": {
        "colab": {
          "base_uri": "https://localhost:8080/"
        },
        "id": "y5APn8jKM-MV",
        "outputId": "f1bacba3-2ce6-4ae5-c4ad-70b5a1a2a890"
      },
      "execution_count": 68,
      "outputs": [
        {
          "output_type": "execute_result",
          "data": {
            "text/plain": [
              "1"
            ]
          },
          "metadata": {},
          "execution_count": 68
        }
      ]
    },
    {
      "cell_type": "markdown",
      "source": [
        "#6.Write a generator function in Python that yields the powers of 2 up to a given exponent."
      ],
      "metadata": {
        "id": "8MNUPeW6ObMh"
      }
    },
    {
      "cell_type": "code",
      "source": [
        "def powers_of_two(n):\n",
        "    return (2 ** i for i in range(n + 1))\n"
      ],
      "metadata": {
        "id": "7lXlxZxyNBB8"
      },
      "execution_count": 69,
      "outputs": []
    },
    {
      "cell_type": "code",
      "source": [
        "powers_of_two(5)"
      ],
      "metadata": {
        "colab": {
          "base_uri": "https://localhost:8080/"
        },
        "id": "0TI7RWNGNrFu",
        "outputId": "372ae69a-2b81-4ef5-aa0c-4ce3a639a6b7"
      },
      "execution_count": 70,
      "outputs": [
        {
          "output_type": "execute_result",
          "data": {
            "text/plain": [
              "<generator object powers_of_two.<locals>.<genexpr> at 0x7cae1972a400>"
            ]
          },
          "metadata": {},
          "execution_count": 70
        }
      ]
    },
    {
      "cell_type": "code",
      "source": [
        "p = powers_of_two(5)"
      ],
      "metadata": {
        "id": "yoav29-qNxRH"
      },
      "execution_count": 71,
      "outputs": []
    },
    {
      "cell_type": "code",
      "source": [
        "next(p)"
      ],
      "metadata": {
        "colab": {
          "base_uri": "https://localhost:8080/"
        },
        "id": "Njpm40n1OIPP",
        "outputId": "af7fb1a1-e925-4131-8f02-ea87074ff555"
      },
      "execution_count": 72,
      "outputs": [
        {
          "output_type": "execute_result",
          "data": {
            "text/plain": [
              "1"
            ]
          },
          "metadata": {},
          "execution_count": 72
        }
      ]
    },
    {
      "cell_type": "code",
      "source": [
        "next(p)"
      ],
      "metadata": {
        "colab": {
          "base_uri": "https://localhost:8080/"
        },
        "id": "s68FsozEOLD-",
        "outputId": "bdef74a4-7ddb-4fea-f309-2dc193d8b1f7"
      },
      "execution_count": 73,
      "outputs": [
        {
          "output_type": "execute_result",
          "data": {
            "text/plain": [
              "2"
            ]
          },
          "metadata": {},
          "execution_count": 73
        }
      ]
    },
    {
      "cell_type": "code",
      "source": [
        "next(p)"
      ],
      "metadata": {
        "colab": {
          "base_uri": "https://localhost:8080/"
        },
        "id": "T18Rg_voOOK8",
        "outputId": "1db0bc68-9993-43c7-922e-4fda31ebd5bb"
      },
      "execution_count": 74,
      "outputs": [
        {
          "output_type": "execute_result",
          "data": {
            "text/plain": [
              "4"
            ]
          },
          "metadata": {},
          "execution_count": 74
        }
      ]
    },
    {
      "cell_type": "code",
      "source": [
        "next(p)"
      ],
      "metadata": {
        "colab": {
          "base_uri": "https://localhost:8080/"
        },
        "id": "snDhaclEOSrW",
        "outputId": "336fb3b9-65da-42f8-8fff-e6871d0244c6"
      },
      "execution_count": 75,
      "outputs": [
        {
          "output_type": "execute_result",
          "data": {
            "text/plain": [
              "8"
            ]
          },
          "metadata": {},
          "execution_count": 75
        }
      ]
    },
    {
      "cell_type": "markdown",
      "source": [
        "#8.Use a lambda function in Python to sort a list of tuples based on the second element of each tuple.\n"
      ],
      "metadata": {
        "id": "hWDXzBt5OpPH"
      }
    },
    {
      "cell_type": "code",
      "source": [
        "x = [5,4,3,10,14,20]"
      ],
      "metadata": {
        "id": "KZ85lw85OV_y"
      },
      "execution_count": 76,
      "outputs": []
    },
    {
      "cell_type": "code",
      "source": [
        "sorted(x)"
      ],
      "metadata": {
        "colab": {
          "base_uri": "https://localhost:8080/"
        },
        "id": "2PCaZyM_RPj4",
        "outputId": "9941e224-3810-40d6-ffd9-ab4f12745ad4"
      },
      "execution_count": 79,
      "outputs": [
        {
          "output_type": "execute_result",
          "data": {
            "text/plain": [
              "[3, 4, 5, 10, 14, 20]"
            ]
          },
          "metadata": {},
          "execution_count": 79
        }
      ]
    },
    {
      "cell_type": "markdown",
      "source": [],
      "metadata": {
        "id": "r5wrH45USn4F"
      }
    },
    {
      "cell_type": "markdown",
      "source": [
        "#9.Write a Python program that uses map() to convert a list of temperatures from Celsius to Fahrenheit."
      ],
      "metadata": {
        "id": "077tQrkpUAl_"
      }
    },
    {
      "cell_type": "code",
      "source": [
        "celsius_temps = [0, 10, 20, 30, 40]\n",
        "fahrenheit_temps = list(map(lambda x: (x * 9/5) + 32, celsius_temps))\n",
        "print(\"Celsius\\tFahrenheit\")\n",
        "for celsius, fahrenheit in zip(celsius_temps, fahrenheit_temps):\n",
        "    print(f\"{celsius}\\t{fahrenheit}\")\n"
      ],
      "metadata": {
        "colab": {
          "base_uri": "https://localhost:8080/"
        },
        "id": "SgQKifMLQc67",
        "outputId": "421123ed-5873-4383-af7d-2f972695522e"
      },
      "execution_count": 85,
      "outputs": [
        {
          "output_type": "stream",
          "name": "stdout",
          "text": [
            "Celsius\tFahrenheit\n",
            "0\t32.0\n",
            "10\t50.0\n",
            "20\t68.0\n",
            "30\t86.0\n",
            "40\t104.0\n"
          ]
        }
      ]
    },
    {
      "cell_type": "markdown",
      "source": [
        "#10. Create a Python program that uses filter() to remove all the vowels from a given string."
      ],
      "metadata": {
        "id": "CdrJdR8XUUWj"
      }
    },
    {
      "cell_type": "code",
      "source": [
        " s = \"welcome, World!\"\n",
        "no_vowels = ''.join(filter(is_not_vowel, s))\n",
        "print(no_vowels)"
      ],
      "metadata": {
        "colab": {
          "base_uri": "https://localhost:8080/"
        },
        "id": "nebRzmGEQo9J",
        "outputId": "60b4109b-9a3b-4c9f-991a-7bfb574eccf4"
      },
      "execution_count": 100,
      "outputs": [
        {
          "output_type": "stream",
          "name": "stdout",
          "text": [
            "\n"
          ]
        }
      ]
    },
    {
      "cell_type": "code",
      "source": [
        "print(no_vowels)"
      ],
      "metadata": {
        "id": "O7SaMKq_Vk2D",
        "outputId": "5ee72607-d82f-484c-a783-816cc5b4f113",
        "colab": {
          "base_uri": "https://localhost:8080/"
        }
      },
      "execution_count": 101,
      "outputs": [
        {
          "output_type": "stream",
          "name": "stdout",
          "text": [
            "\n"
          ]
        }
      ]
    },
    {
      "cell_type": "markdown",
      "source": [
        "#11.Imagine an accounting routine used in a book shop. It works on a list with sublists, which look like this:\n",
        "\n"
      ],
      "metadata": {
        "id": "blwdUBAsW0zH"
      }
    },
    {
      "cell_type": "code",
      "source": [
        "orders = [\n",
        "    [34587, \"Learning Python, Mark Lutz\", 4, 40.95],\n",
        "    [98762, \"Programming Python, Mark Lutz\", 3, 56.80],\n",
        "    [77226, \"Head First Python, Paul Barry\", 3, 32.95],\n",
        "    [88112, \"Einführung in Python3, Bernd Klein\", 3, 24.99]\n",
        "    ]\n",
        "\n",
        "total_prices = []\n",
        "for order in orders:\n",
        "    order_number = order[0]\n",
        "    quantity = order[2]\n",
        "    price_per_item = order[3]\n",
        "    total_price = quantity * price_per_item\n",
        "    if total_price < 100:\n",
        "        total_price += 10\n",
        "    total_prices.append((order_number, total_price))\n",
        "\n",
        "print(total_prices)\n"
      ],
      "metadata": {
        "id": "G9ocWsrxWOvt",
        "outputId": "8ab8b874-576e-404c-eb13-518ff0101392",
        "colab": {
          "base_uri": "https://localhost:8080/"
        }
      },
      "execution_count": 103,
      "outputs": [
        {
          "output_type": "stream",
          "name": "stdout",
          "text": [
            "[(34587, 163.8), (98762, 170.39999999999998), (77226, 108.85000000000001), (88112, 84.97)]\n"
          ]
        }
      ]
    },
    {
      "cell_type": "code",
      "source": [],
      "metadata": {
        "id": "eF6mIMNnY670"
      },
      "execution_count": null,
      "outputs": []
    }
  ]
}